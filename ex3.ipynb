{
 "cells": [
  {
   "cell_type": "code",
   "execution_count": 2,
   "metadata": {
    "pycharm": {
     "is_executing": false
    }
   },
   "outputs": [],
   "source": [
    "from api import API\n",
    "from disaggregate import ADAE, DAE, Seq2Point, Seq2Seq, WindowGRU, RNN\n",
    "import warnings\n",
    "warnings.filterwarnings(\"ignore\")\n",
    "\n",
    "# path = 'D:/workspace/nilm/data/redd_data.h5'\n",
    "path = 'D:/workspace/nilm/code/databank/redd_data.h5'"
   ]
  },
  {
   "cell_type": "code",
   "execution_count": 3,
   "metadata": {
    "pycharm": {
     "is_executing": false
    }
   },
   "outputs": [],
   "source": [
    "DEBUG = True\n",
    "TEST = False\n",
    "\n",
    "def generate_method(debug, test):\n",
    "    if debug:\n",
    "        method = {\n",
    "            'DAE': DAE({'save-model-path': 'DAE', 'pretrained-model-path': None, 'n_epochs': 1, 'batch_size': 256}),\n",
    "            # 'RNN': RNN({'save-model-path': 'RNN', 'pretrained-model-path': None, 'n_epochs': 1, 'batch_size': 256}),\n",
    "            # 'Seq2Point': Seq2Point({'save-model-path': 'Seq2Point', 'pretrained-model-path': None, 'n_epochs': 1, 'batch_size': 256}),\n",
    "            # 'Seq2Seq': Seq2Seq({'save-model-path': 'Seq2Seq', 'pretrained-model-path': None, 'n_epochs': 1, 'batch_size': 256}),\n",
    "            # 'GRU': WindowGRU({'save-model-path': 'GRU', 'pretrained-model-path': None, 'n_epochs': 1, 'batch_size': 256}),\n",
    "        }\n",
    "    else:\n",
    "        method = {\n",
    "            'DAE': DAE({'save-model-path': 'DAE', 'pretrained-model-path': None}),\n",
    "            'RNN': RNN({'save-model-path': 'RNN', 'pretrained-model-path': None}),\n",
    "            'Seq2Point': Seq2Point({'save-model-path': 'Seq2Point', 'pretrained-model-path': None}),\n",
    "            'Seq2Seq': Seq2Seq({'save-model-path': 'Seq2Seq', 'pretrained-model-path': None}),\n",
    "            'GRU': WindowGRU({'save-model-path': 'GRU', 'pretrained-model-path': None}),\n",
    "        }\n",
    "    if test:\n",
    "        method = {\n",
    "            'DAE': DAE({'save-model-path': 'DAE', 'pretrained-model-path': 'DAE'}),\n",
    "            'RNN': RNN({'save-model-path': 'RNN', 'pretrained-model-path': 'RNN'}),\n",
    "            'Seq2Point': Seq2Point({'save-model-path': 'Seq2Point', 'pretrained-model-path': 'Seq2Point'}),\n",
    "            'Seq2Seq': Seq2Seq({'save-model-path': 'Seq2Seq', 'pretrained-model-path': 'Seq2Seq'}),\n",
    "            'GRU': WindowGRU({'save-model-path': 'GRU', 'pretrained-model-path': 'GRU'}),\n",
    "        }\n",
    "    return method"
   ]
  },
  {
   "cell_type": "code",
   "execution_count": 4,
   "metadata": {
    "pycharm": {
     "is_executing": false
    }
   },
   "outputs": [],
   "source": [
    "method = generate_method(debug=DEBUG, test=TEST)\n",
    "ex_train_dish_washer = {\n",
    "\n",
    "    'power': {\n",
    "        'mains': ['apparent', 'active'],\n",
    "        'appliance': ['apparent', 'active']\n",
    "    },\n",
    "    'sample_rate': 6,\n",
    "\n",
    "\n",
    "    'appliances': ['dish washer'],\n",
    "    'methods': method,\n",
    "    'isState': False,\n",
    "    'train': {\n",
    "        'datasets': {\n",
    "            'redd': {\n",
    "                'path': path,\n",
    "                'buildings': {\n",
    "                    1: {\n",
    "                        'start_time': '2011-04-18',\n",
    "                        'end_time': '2011-05-08'\n",
    "                    }, \n",
    "                    2: {\n",
    "                        'start_time': '2011-04-17',\n",
    "                        'end_time': '2011-05-22'\n",
    "                    },\n",
    "                    3: {\n",
    "                        'start_time': '2011-04-16',\n",
    "                        'end_time': '2011-05-30'\n",
    "                    },\n",
    "\n",
    "                    4: {\n",
    "                        'start_time': '2011-04-16',\n",
    "                        'end_time': '2011-06-03'\n",
    "                    }\n",
    "\n",
    "                }\n",
    "            }\n",
    "        }\n",
    "    },\n",
    "\n",
    "    'test': {\n",
    "        'datasets': {\n",
    "            'redd': {\n",
    "                'path': path,\n",
    "                'buildings': {\n",
    "                    1: {\n",
    "                        'start_time': '2011-05-11',\n",
    "                        'end_time': '2011-05-24'\n",
    "                    },\n",
    "                    2: {\n",
    "                        'start_time': '2011-04-27',\n",
    "                        'end_time': '2011-05-22'\n",
    "                    },\n",
    "                    3: {\n",
    "                        'start_time': '2011-05-23',\n",
    "                        'end_time': '2011-05-30'\n",
    "                    },\n",
    "\n",
    "                    4: {\n",
    "                        'start_time': '2011-05-23',\n",
    "                        'end_time': '2011-06-03'\n",
    "                    }\n",
    "\n",
    "                }\n",
    "            }\n",
    "        }\n",
    "    }\n",
    "}\n",
    "API(ex_train_dish_washer)"
   ]
  },
  {
   "cell_type": "code",
   "execution_count": 5,
   "metadata": {
    "ExecuteTime": {
     "end_time": "2020-03-18T12:09:02.500319Z",
     "start_time": "2020-03-18T12:09:02.488624Z"
    },
    "code_folding": [],
    "pycharm": {
     "is_executing": false
    }
   },
   "outputs": [],
   "source": [
    "method = generate_method(debug=DEBUG, test=TEST)\n",
    "ex_train_fridge = {\n",
    "\n",
    "    'power': {\n",
    "        'mains': ['apparent', 'active'],\n",
    "        'appliance': ['apparent', 'active']\n",
    "    },\n",
    "    'sample_rate': 6,\n",
    "\n",
    "\n",
    "    'appliances': ['fridge'],\n",
    "    'methods': method,\n",
    "    'isState': False,\n",
    "    'train': {\n",
    "        'datasets': {\n",
    "\n",
    "            'redd': {\n",
    "                'path': path,\n",
    "                'buildings': {\n",
    "                    1: {\n",
    "                        'start_time': '2011-04-18',\n",
    "                        'end_time': '2011-05-08'\n",
    "                    },\n",
    "                    2: {\n",
    "                        'start_time': '2011-04-17',\n",
    "                        'end_time': '2011-04-27'\n",
    "                    },\n",
    "                    3: {\n",
    "                        'start_time': '2011-04-16',\n",
    "                        'end_time': '2011-05-23'\n",
    "                    },\n",
    "\n",
    "                    6: {\n",
    "                        'start_time': '2011-05-21',\n",
    "                        'end_time': '2011-06-09'\n",
    "                    }\n",
    "\n",
    "                }\n",
    "\n",
    "\n",
    "            }\n",
    "        }\n",
    "    },\n",
    "\n",
    "    'test': {\n",
    "        'datasets': {\n",
    "            'redd': {\n",
    "                'path': path,\n",
    "                'buildings': {\n",
    "                    1: {\n",
    "                        'start_time': '2011-05-11',\n",
    "                        'end_time': '2011-05-24'\n",
    "                    },\n",
    "                    2: {\n",
    "                        'start_time': '2011-04-27',\n",
    "                        'end_time': '2011-05-22'\n",
    "                    },\n",
    "                    3: {\n",
    "                        'start_time': '2011-05-23',\n",
    "                        'end_time': '2011-05-30'\n",
    "                    },\n",
    "\n",
    "                    6: {\n",
    "                        'start_time': '2011-06-09',\n",
    "                        'end_time': '2011-06-13'\n",
    "                    }\n",
    "                }\n",
    "            }\n",
    "        },\n",
    "    },\n",
    "}\n",
    "API(ex_train_fridge)"
   ]
  },
  {
   "cell_type": "code",
   "execution_count": 6,
   "metadata": {
    "code_folding": [
     14,
     35
    ],
    "pycharm": {
     "is_executing": false,
     "name": "#%%\n"
    }
   },
   "outputs": [],
   "source": [
    "method = generate_method(debug=DEBUG, test=TEST)\n",
    "ex_train_microwave = {\n",
    "\n",
    "    'power': {\n",
    "        'mains': ['apparent', 'active'],\n",
    "        'appliance': ['apparent', 'active']\n",
    "    },\n",
    "    'sample_rate': 6,\n",
    "\n",
    "\n",
    "    'appliances': ['microwave'],\n",
    "    'methods': method,\n",
    "    'isState': False,\n",
    "    'train': {\n",
    "        'datasets': {\n",
    "\n",
    "            'redd': {\n",
    "                'path': path,\n",
    "                'buildings': {\n",
    "                    1: {\n",
    "                        'start_time': '2011-04-18',\n",
    "                        'end_time': '2011-05-08'\n",
    "                    },\n",
    "                    2: {\n",
    "                        'start_time': '2011-04-17',\n",
    "                        'end_time': '2011-04-27'\n",
    "                    },\n",
    "                    3: {\n",
    "                        'start_time': '2011-04-16',\n",
    "                        'end_time': '2011-05-23'\n",
    "                    }\n",
    "                }\n",
    "\n",
    "\n",
    "            }\n",
    "        }\n",
    "    },\n",
    "\n",
    "    'test': {\n",
    "        'datasets': {\n",
    "            'redd': {\n",
    "                'path': path,\n",
    "                'buildings': {\n",
    "                    1: {\n",
    "                        'start_time': '2011-05-11',\n",
    "                        'end_time': '2011-05-24'\n",
    "                    },\n",
    "                    2: {\n",
    "                        'start_time': '2011-04-27',\n",
    "                        'end_time': '2011-05-22'\n",
    "                    },\n",
    "                    3: {\n",
    "                        'start_time': '2011-05-23',\n",
    "                        'end_time': '2011-05-30'\n",
    "                    }\n",
    "\n",
    "                }\n",
    "            }\n",
    "        },\n",
    "    },\n",
    "}\n",
    "API(ex_train_microwave)"
   ]
  },
  {
   "cell_type": "code",
   "execution_count": null,
   "outputs": [],
   "source": [],
   "metadata": {
    "collapsed": false,
    "pycharm": {
     "name": "#%%"
    }
   }
  }
 ],
 "metadata": {
  "kernelspec": {
   "display_name": "Python 3.6.10 64-bit ('nilmtk-contrib': conda)",
   "language": "python",
   "name": "python361064bitnilmtkcontribconda9f2f8c889e6b4d21b5c8df5f0970f2ed"
  },
  "language_info": {
   "codemirror_mode": {
    "name": "ipython",
    "version": 3
   },
   "file_extension": ".py",
   "mimetype": "text/x-python",
   "name": "python",
   "nbconvert_exporter": "python",
   "pygments_lexer": "ipython3",
   "version": "3.6.10-final"
  },
  "toc": {
   "base_numbering": 1,
   "nav_menu": {},
   "number_sections": true,
   "sideBar": true,
   "skip_h1_title": false,
   "title_cell": "Table of Contents",
   "title_sidebar": "Contents",
   "toc_cell": false,
   "toc_position": {},
   "toc_section_display": true,
   "toc_window_display": false
  },
  "varInspector": {
   "cols": {
    "lenName": 16,
    "lenType": 16,
    "lenVar": 40
   },
   "kernels_config": {
    "python": {
     "delete_cmd_postfix": "",
     "delete_cmd_prefix": "del ",
     "library": "var_list.py",
     "varRefreshCmd": "print(var_dic_list())"
    },
    "r": {
     "delete_cmd_postfix": ") ",
     "delete_cmd_prefix": "rm(",
     "library": "var_list.r",
     "varRefreshCmd": "cat(var_dic_list()) "
    }
   },
   "types_to_exclude": [
    "module",
    "function",
    "builtin_function_or_method",
    "instance",
    "_Feature"
   ],
   "window_display": false
  },
  "pycharm": {
   "stem_cell": {
    "cell_type": "raw",
    "source": [],
    "metadata": {
     "collapsed": false
    }
   }
  }
 },
 "nbformat": 4,
 "nbformat_minor": 4
}